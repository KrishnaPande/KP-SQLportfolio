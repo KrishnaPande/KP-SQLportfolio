{
 "cells": [
  {
   "cell_type": "code",
   "execution_count": 1,
   "id": "e822d9b0",
   "metadata": {},
   "outputs": [
    {
     "name": "stdout",
     "output_type": "stream",
     "text": [
      "      Name City\n",
      "0    Alice   NY\n",
      "1      Bob   LA\n",
      "2  Charlie   SF\n"
     ]
    }
   ],
   "source": [
    "import pandas as pd\n",
    "\n",
    "data = {'Name': ['Alice', 'Bob', 'Charlie'], 'Age': [25, 30, 35], 'City': ['NY', 'LA', 'SF']}\n",
    "df = pd.DataFrame(data)\n",
    "\n",
    "print(df.iloc[:, [0, 2]])  # Selects first (0) and third (2) column"
   ]
  },
  {
   "cell_type": "code",
   "execution_count": 2,
   "id": "d274a834",
   "metadata": {},
   "outputs": [
    {
     "name": "stdout",
     "output_type": "stream",
     "text": [
      "Index: 0, Name: Alice, Age: 25\n",
      "Index: 1, Name: Bob, Age: 30\n"
     ]
    }
   ],
   "source": [
    "import pandas as pd\n",
    "data = {'Name': ['Alice', 'Bob'], 'Age': [25, 30]}\n",
    "df = pd.DataFrame(data)\n",
    "\n",
    "for index, row in df.iterrows():\n",
    "    print(f\"Index: {index}, Name: {row['Name']}, Age: {row['Age']}\")"
   ]
  },
  {
   "cell_type": "code",
   "execution_count": 5,
   "id": "bb916ee8",
   "metadata": {},
   "outputs": [
    {
     "data": {
      "text/plain": [
       "array([['Alice', 25],\n",
       "       ['Bob', 30]], dtype=object)"
      ]
     },
     "execution_count": 5,
     "metadata": {},
     "output_type": "execute_result"
    }
   ],
   "source": [
    "df.values # "
   ]
  },
  {
   "cell_type": "code",
   "execution_count": 6,
   "id": "c3a09edc",
   "metadata": {},
   "outputs": [
    {
     "name": "stdout",
     "output_type": "stream",
     "text": [
      "['Alice' 25]\n",
      "['Bob' 30]\n"
     ]
    }
   ],
   "source": [
    "for i in df.values:\n",
    "    print(i)"
   ]
  },
  {
   "cell_type": "code",
   "execution_count": 7,
   "id": "5a9afb4a",
   "metadata": {},
   "outputs": [
    {
     "data": {
      "text/plain": [
       "<bound method DataFrame.items of     Name  Age\n",
       "0  Alice   25\n",
       "1    Bob   30>"
      ]
     },
     "execution_count": 7,
     "metadata": {},
     "output_type": "execute_result"
    }
   ],
   "source": [
    "df.items"
   ]
  },
  {
   "cell_type": "code",
   "execution_count": 11,
   "id": "e101a6b0",
   "metadata": {},
   "outputs": [
    {
     "name": "stdout",
     "output_type": "stream",
     "text": [
      "Name 0    Alice\n",
      "1      Bob\n",
      "Name: Name, dtype: object\n",
      "Age 0    25\n",
      "1    30\n",
      "Name: Age, dtype: int64\n"
     ]
    }
   ],
   "source": [
    "for i, v in df.items():\n",
    "    print(i, v)"
   ]
  },
  {
   "cell_type": "code",
   "execution_count": 12,
   "id": "64cdb0d8",
   "metadata": {},
   "outputs": [
    {
     "data": {
      "text/plain": [
       "RangeIndex(start=0, stop=2, step=1)"
      ]
     },
     "execution_count": 12,
     "metadata": {},
     "output_type": "execute_result"
    }
   ],
   "source": [
    "df.index"
   ]
  },
  {
   "cell_type": "code",
   "execution_count": null,
   "id": "023b66de",
   "metadata": {},
   "outputs": [],
   "source": []
  }
 ],
 "metadata": {
  "kernelspec": {
   "display_name": "Python 3 (ipykernel)",
   "language": "python",
   "name": "python3"
  },
  "language_info": {
   "codemirror_mode": {
    "name": "ipython",
    "version": 3
   },
   "file_extension": ".py",
   "mimetype": "text/x-python",
   "name": "python",
   "nbconvert_exporter": "python",
   "pygments_lexer": "ipython3",
   "version": "3.7.0"
  }
 },
 "nbformat": 4,
 "nbformat_minor": 5
}
