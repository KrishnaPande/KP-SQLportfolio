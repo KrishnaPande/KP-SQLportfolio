{
 "cells": [
  {
   "cell_type": "code",
   "execution_count": null,
   "id": "7e98711e-524c-41d2-9cf4-98b44838de30",
   "metadata": {},
   "outputs": [],
   "source": []
  }
 ],
 "metadata": {
  "kernelspec": {
   "display_name": "",
   "name": ""
  },
  "language_info": {
   "name": ""
  }
 },
 "nbformat": 4,
 "nbformat_minor": 5
}
